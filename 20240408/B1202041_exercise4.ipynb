{
  "nbformat": 4,
  "nbformat_minor": 0,
  "metadata": {
    "colab": {
      "provenance": []
    },
    "kernelspec": {
      "name": "python3",
      "display_name": "Python 3"
    },
    "language_info": {
      "name": "python"
    }
  },
  "cells": [
    {
      "cell_type": "code",
      "source": [
        "#caculate BMI\n",
        "h=float(input(\"enter your height(cm)\"))/100\n",
        "w=float(input(\"enter your weight(kg)\"))\n",
        "h*=h\n",
        "bmi=w/h\n",
        "print(bmi)\n",
        "if bmi>=27:\n",
        "  print('肥胖')\n",
        "elif 27>bmi>=24:\n",
        "  print('過重')\n",
        "elif 24>bmi>=18.5:\n",
        "  print('適中')\n",
        "elif 18.5>bmi:\n",
        "  print('過輕')"
      ],
      "metadata": {
        "colab": {
          "base_uri": "https://localhost:8080/"
        },
        "id": "ISGItW1wkjDX",
        "outputId": "63176af3-eeb5-44ef-a556-282c4d631041"
      },
      "execution_count": 3,
      "outputs": [
        {
          "output_type": "stream",
          "name": "stdout",
          "text": [
            "enter your height(cm)178\n",
            "enter your weight(kg)70\n",
            "22.093170054286073\n",
            "適中\n"
          ]
        }
      ]
    },
    {
      "cell_type": "code",
      "source": [
        "a=int(input(\"輸入第一個數字;\"))\n",
        "b=input(\"輸入運算符號;\")\n",
        "c=int(input(\"輸入第二個數字;\"))\n",
        "if b == '+':\n",
        "  print (a+c)\n",
        "elif b == '*':\n",
        "  print(a*c)\n",
        "elif b == '-':\n",
        "  print(a-c)\n",
        "elif b == '/':\n",
        "  print (a/c)\n"
      ],
      "metadata": {
        "colab": {
          "base_uri": "https://localhost:8080/"
        },
        "id": "Ie9S36T_msEP",
        "outputId": "f66cdd99-973f-4a48-ec14-6ef32eac678a"
      },
      "execution_count": 22,
      "outputs": [
        {
          "output_type": "stream",
          "name": "stdout",
          "text": [
            "輸入第一個數字;3\n",
            "輸入運算符號;+\n",
            "輸入第二個數字;2\n",
            "5\n"
          ]
        }
      ]
    }
  ]
}