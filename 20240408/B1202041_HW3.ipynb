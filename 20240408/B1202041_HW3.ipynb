{
  "nbformat": 4,
  "nbformat_minor": 0,
  "metadata": {
    "colab": {
      "provenance": []
    },
    "kernelspec": {
      "name": "python3",
      "display_name": "Python 3"
    },
    "language_info": {
      "name": "python"
    }
  },
  "cells": [
    {
      "cell_type": "code",
      "execution_count": 9,
      "metadata": {
        "colab": {
          "base_uri": "https://localhost:8080/"
        },
        "id": "B0m26ZT2tXiZ",
        "outputId": "fdeeb6cd-e814-412d-bda3-81af77b9e316"
      },
      "outputs": [
        {
          "output_type": "stream",
          "name": "stdout",
          "text": [
            "輸入年分1964\n",
            "1964年是閏年\n"
          ]
        }
      ],
      "source": [
        "year=int(input('輸入年分'))\n",
        "if year <= 1582:\n",
        "  if year%4 == 0:\n",
        "    print(f'{year}年是閏年')\n",
        "  else:\n",
        "    print(f'{year}年是平年')\n",
        "else:\n",
        "  if year%4==0:\n",
        "    if year%100==0:\n",
        "      if year%400==0:\n",
        "        print(f'{year}年是閏年')\n",
        "      else:\n",
        "        print(f'{year}年是平年')\n",
        "    else:\n",
        "      print(f'{year}年是閏年')\n",
        "  else:\n",
        "    print(f'{year}年是平年')"
      ]
    },
    {
      "cell_type": "code",
      "source": [
        "year=int(input('輸入年分'))\n",
        "if year <= 1582:\n",
        "  if year%4 == 0:\n",
        "    print(f'{year}年是閏年')\n",
        "  else:\n",
        "    print(f'{year}年是平年')\n",
        "else:\n",
        "  if year%4==0:\n",
        "    if year%100==0:\n",
        "      if year%400==0:\n",
        "        print(f'{year}年是閏年')\n",
        "      else:\n",
        "        print(f'{year}年是平年')\n",
        "    else:\n",
        "      print(f'{year}年是閏年')\n",
        "  else:\n",
        "    print(f'{year}年是平年')"
      ],
      "metadata": {
        "colab": {
          "base_uri": "https://localhost:8080/"
        },
        "id": "lUi24WxszNsx",
        "outputId": "fe237f70-15e0-40be-e3be-d80a81faa559"
      },
      "execution_count": 12,
      "outputs": [
        {
          "output_type": "stream",
          "name": "stdout",
          "text": [
            "輸入年分1392\n",
            "1392年是閏年\n"
          ]
        }
      ]
    }
  ]
}