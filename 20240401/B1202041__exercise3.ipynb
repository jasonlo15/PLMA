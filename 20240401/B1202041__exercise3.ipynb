{
  "nbformat": 4,
  "nbformat_minor": 0,
  "metadata": {
    "colab": {
      "provenance": []
    },
    "kernelspec": {
      "name": "python3",
      "display_name": "Python 3"
    },
    "language_info": {
      "name": "python"
    }
  },
  "cells": [
    {
      "cell_type": "code",
      "execution_count": 16,
      "metadata": {
        "colab": {
          "base_uri": "https://localhost:8080/"
        },
        "id": "TNPVBkdGeun6",
        "outputId": "5f8b1b2b-0c6c-4520-a295-db7fc8e2637f"
      },
      "outputs": [
        {
          "output_type": "stream",
          "name": "stdout",
          "text": [
            "88.33333333333333\n",
            "{'姓名': '賴宏瑋', '性別': '男', '學號': 'M1129020'}\n",
            "95.0\n",
            "{'姓名': '許珈綺', '性別': '女', '學號': 'M1229001'}\n"
          ]
        }
      ],
      "source": [
        "import copy\n",
        "a={'姓名':'賴宏瑋','性別':'男','作業分數':[95,100,90]}\n",
        "b={'學號':'M1129020'}\n",
        "a.update(b)\n",
        "c=copy.deepcopy(a)\n",
        "a['作業分數'][1]=80\n",
        "c['姓名']='許珈綺'\n",
        "c['性別']='女'\n",
        "c['學號']='M1229001'\n",
        "d=a.pop('作業分數')\n",
        "print((d[0]+d[1]+d[2])/3)\n",
        "print(a)\n",
        "e=c.pop('作業分數')\n",
        "print((e[0]+e[1]+e[2])/3)\n",
        "print(c)"
      ]
    },
    {
      "cell_type": "code",
      "source": [
        "a=[100,50,45,60,90,95,80,50]\n",
        "a.insert(0,88)\n",
        "a[2:5]=[50,70]\n",
        "a.remove(50)\n",
        "first=a.pop(0)\n",
        "last=a.pop(-1)\n",
        "print(first+last)"
      ],
      "metadata": {
        "colab": {
          "base_uri": "https://localhost:8080/"
        },
        "id": "SIvQ8jvJnQxB",
        "outputId": "da87c547-9763-4c8c-cee8-423885cfda7b"
      },
      "execution_count": 19,
      "outputs": [
        {
          "output_type": "stream",
          "name": "stdout",
          "text": [
            "138\n"
          ]
        }
      ]
    },
    {
      "cell_type": "code",
      "source": [
        "a=347//3\n",
        "b=347%3\n",
        "print(a)\n",
        "print(b)\n",
        "print(a**b)"
      ],
      "metadata": {
        "colab": {
          "base_uri": "https://localhost:8080/"
        },
        "id": "EQy9dAu1nRBI",
        "outputId": "334f2761-2587-466e-8651-49f491711906"
      },
      "execution_count": 18,
      "outputs": [
        {
          "output_type": "stream",
          "name": "stdout",
          "text": [
            "115\n",
            "2\n",
            "13225\n"
          ]
        }
      ]
    }
  ]
}