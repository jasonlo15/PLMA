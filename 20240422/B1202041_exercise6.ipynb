{
  "nbformat": 4,
  "nbformat_minor": 0,
  "metadata": {
    "colab": {
      "provenance": []
    },
    "kernelspec": {
      "name": "python3",
      "display_name": "Python 3"
    },
    "language_info": {
      "name": "python"
    }
  },
  "cells": [
    {
      "cell_type": "code",
      "execution_count": 1,
      "metadata": {
        "colab": {
          "base_uri": "https://localhost:8080/"
        },
        "id": "WoSPwOdUua2D",
        "outputId": "55d46b8d-d638-4c88-b971-89b66d09e7b9"
      },
      "outputs": [
        {
          "output_type": "stream",
          "name": "stdout",
          "text": [
            "1x1=1    2x1=2    3x1=3    4x1=4    5x1=5    6x1=6    7x1=7    8x1=8    9x1=9    \n",
            "1x2=2    2x2=4    3x2=6    4x2=8    5x2=10   6x2=12   7x2=14   8x2=16   9x2=18   \n",
            "1x3=3    2x3=6    3x3=9    4x3=12   5x3=15   6x3=18   7x3=21   8x3=24   9x3=27   \n",
            "1x4=4    2x4=8    3x4=12   4x4=16   5x4=20   6x4=24   7x4=28   8x4=32   9x4=36   \n",
            "1x5=5    2x5=10   3x5=15   4x5=20   5x5=25   6x5=30   7x5=35   8x5=40   9x5=45   \n",
            "1x6=6    2x6=12   3x6=18   4x6=24   5x6=30   6x6=36   7x6=42   8x6=48   9x6=54   \n",
            "1x7=7    2x7=14   3x7=21   4x7=28   5x7=35   6x7=42   7x7=49   8x7=56   9x7=63   \n",
            "1x8=8    2x8=16   3x8=24   4x8=32   5x8=40   6x8=48   7x8=56   8x8=64   9x8=72   \n",
            "1x9=9    2x9=18   3x9=27   4x9=36   5x9=45   6x9=54   7x9=63   8x9=72   9x9=81   \n"
          ]
        }
      ],
      "source": [
        "b=1\n",
        "while b<=9:\n",
        "  a=1\n",
        "  while a<=9:\n",
        "    ans=a*b\n",
        "    print(f'{a}x{b}={ans:<2d}', end='   ')\n",
        "    a+=1\n",
        "  b+=1\n",
        "  print()"
      ]
    },
    {
      "cell_type": "code",
      "source": [
        "import random\n",
        "answer=random.sample(range(1,10),4)\n",
        "print(f'答案:{answer}')\n",
        "a=b=n=0\n",
        "num=0\n",
        "while a!=4:\n",
        "  num+=1\n",
        "  a=b=n=0\n",
        "  user=list(input('輸入四個數字(不會重複):'))\n",
        "  if len(user)>4:\n",
        "   user=list(input('請重新輸入四個數字(不會重複)'))\n",
        "   for i in user:\n",
        "      if int(user[n])==answer[n]:\n",
        "       a+=1\n",
        "      elif int(i) in answer:\n",
        "       b+=1\n",
        "      n+=1\n",
        "   output=','.join(user).replace(',','')\n",
        "   print(f'{output}:{a}A{b}B')\n",
        "  else:\n",
        "    for i in user:\n",
        "      if int(user[n])==answer[n]:\n",
        "        a+=1\n",
        "      elif int(i) in answer:\n",
        "        b+=1\n",
        "      n+=1\n",
        "    output=','.join(user).replace(',','')\n",
        "    print(f'{output}:{a}A{b}B')\n",
        "print(f'答對了！總共猜了{num}次')"
      ],
      "metadata": {
        "colab": {
          "base_uri": "https://localhost:8080/"
        },
        "id": "huqHGUY9vBl1",
        "outputId": "5359b68a-5e4c-4d23-9056-19b91064fcee"
      },
      "execution_count": 13,
      "outputs": [
        {
          "output_type": "stream",
          "name": "stdout",
          "text": [
            "答案:[1, 6, 5, 3]\n",
            "輸入四個數字(不會重複):12345\n",
            "請重新輸入四個數字(不會重複)1234\n",
            "1234:1A1B\n",
            "輸入四個數字(不會重複):1346\n",
            "1346:1A2B\n",
            "輸入四個數字(不會重複):1643\n",
            "1643:3A0B\n",
            "輸入四個數字(不會重複):1653\n",
            "1653:4A0B\n",
            "答對了！總共猜了4次\n"
          ]
        }
      ]
    },
    {
      "cell_type": "code",
      "source": [],
      "metadata": {
        "id": "7e_3b3iv2VNN"
      },
      "execution_count": null,
      "outputs": []
    }
  ]
}