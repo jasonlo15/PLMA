{
  "nbformat": 4,
  "nbformat_minor": 0,
  "metadata": {
    "colab": {
      "provenance": []
    },
    "kernelspec": {
      "name": "python3",
      "display_name": "Python 3"
    },
    "language_info": {
      "name": "python"
    }
  },
  "cells": [
    {
      "cell_type": "code",
      "execution_count": null,
      "metadata": {
        "id": "Gc2C4EJ2oioS",
        "colab": {
          "base_uri": "https://localhost:8080/"
        },
        "outputId": "ccea312b-98c4-4eb3-b7c2-d9ba81bd9212"
      },
      "outputs": [
        {
          "output_type": "stream",
          "name": "stdout",
          "text": [
            "I'm a student\n"
          ]
        }
      ],
      "source": [
        "print(\"I'm a student\")"
      ]
    },
    {
      "cell_type": "markdown",
      "source": [],
      "metadata": {
        "id": "IdgMtdYKyaqc"
      }
    },
    {
      "cell_type": "code",
      "source": [
        "x1=float(input(\"x1=\"))\n",
        "y1=float(input(\"y1=\"))\n",
        "x2=float(input(\"x2=\"))\n",
        "y2=float(input(\"y2=\"))\n",
        "dx= x2-x1\n",
        "dy= y2-y1\n",
        "dist=(dx**2+dy**2)**0.5\n",
        "print(dist)"
      ],
      "metadata": {
        "id": "aCcFeKOYqAnh",
        "colab": {
          "base_uri": "https://localhost:8080/"
        },
        "outputId": "b2c17d54-cf41-4786-fbcd-45c1b74b2e20"
      },
      "execution_count": null,
      "outputs": [
        {
          "output_type": "stream",
          "name": "stdout",
          "text": [
            "x1=3\n",
            "y1=5\n",
            "x2=9\n",
            "y2=7\n",
            "6.324555320336759\n"
          ]
        }
      ]
    },
    {
      "cell_type": "code",
      "source": [
        "#caculate BMI\n",
        "h=float(input(\"enter your height(cm)\"))/100\n",
        "w=float(input(\"enter your weight(kg)\"))\n",
        "h*=h\n",
        "bmi=w/h\n",
        "print(bmi)"
      ],
      "metadata": {
        "colab": {
          "base_uri": "https://localhost:8080/"
        },
        "id": "HybFsmKks6Vs",
        "outputId": "856341ef-0f52-4c65-86bf-78c45dec49e0"
      },
      "execution_count": null,
      "outputs": [
        {
          "output_type": "stream",
          "name": "stdout",
          "text": [
            "enter your height(cm)179\n",
            "enter your weight(kg)70\n",
            "21.847008520333322\n"
          ]
        }
      ]
    }
  ]
}