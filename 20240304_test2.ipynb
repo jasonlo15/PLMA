{
  "nbformat": 4,
  "nbformat_minor": 0,
  "metadata": {
    "colab": {
      "provenance": []
    },
    "kernelspec": {
      "name": "python3",
      "display_name": "Python 3"
    },
    "language_info": {
      "name": "python"
    }
  },
  "cells": [
    {
      "cell_type": "code",
      "execution_count": null,
      "metadata": {
        "colab": {
          "base_uri": "https://localhost:8080/"
        },
        "id": "oQVxlkyJd84H",
        "outputId": "ead0be0a-f811-4721-ef75-7f7831b3f31c"
      },
      "outputs": [
        {
          "output_type": "execute_result",
          "data": {
            "text/plain": [
              "495"
            ]
          },
          "metadata": {},
          "execution_count": 1
        }
      ],
      "source": [
        "x=2\n",
        "y=1\n",
        "a=2*x+y\n",
        "b=100-y\n",
        "ans=a*b\n",
        "ans"
      ]
    },
    {
      "cell_type": "code",
      "source": [
        "y=4\n",
        "a=2*y+1\n",
        "ans=100/a\n",
        "ans"
      ],
      "metadata": {
        "colab": {
          "base_uri": "https://localhost:8080/"
        },
        "id": "EZBBvCSpesGu",
        "outputId": "83a88c0b-52c6-47ef-c655-5b6ca1662324"
      },
      "execution_count": null,
      "outputs": [
        {
          "output_type": "execute_result",
          "data": {
            "text/plain": [
              "11.11111111111111"
            ]
          },
          "metadata": {},
          "execution_count": 2
        }
      ]
    }
  ]
}