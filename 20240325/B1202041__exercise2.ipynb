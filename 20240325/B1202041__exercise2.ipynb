{
  "nbformat": 4,
  "nbformat_minor": 0,
  "metadata": {
    "colab": {
      "provenance": []
    },
    "kernelspec": {
      "name": "python3",
      "display_name": "Python 3"
    },
    "language_info": {
      "name": "python"
    }
  },
  "cells": [
    {
      "cell_type": "code",
      "execution_count": 4,
      "metadata": {
        "colab": {
          "base_uri": "https://localhost:8080/"
        },
        "id": "PlnYsKnNgY3n",
        "outputId": "2c91ab44-97b7-470f-dc67-0071a705ef85"
      },
      "outputs": [
        {
          "output_type": "stream",
          "name": "stdout",
          "text": [
            "{'姓名': '賴宏偉', '性別': '男', '作業分數': [100, 100, 90], '學號': 'M1129020'}\n"
          ]
        },
        {
          "output_type": "execute_result",
          "data": {
            "text/plain": [
              "96.66666666666667"
            ]
          },
          "metadata": {},
          "execution_count": 4
        }
      ],
      "source": [
        "infor={'姓名':'賴宏偉',\"性別\":'男','作業分數':[80,95,100,90]}\n",
        "infor.setdefault('學號','M1129020')\n",
        "infor['作業分數'][1]=100\n",
        "del infor['作業分數'][0]\n",
        "print (infor)\n",
        "count=infor['作業分數'][0]+infor['作業分數'][1]+infor['作業分數'][2]\n",
        "average_score=count/len(infor['作業分數'])\n",
        "(average_score)"
      ]
    }
  ]
}