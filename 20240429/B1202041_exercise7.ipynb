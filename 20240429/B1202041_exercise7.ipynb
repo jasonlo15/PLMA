{
  "nbformat": 4,
  "nbformat_minor": 0,
  "metadata": {
    "colab": {
      "provenance": []
    },
    "kernelspec": {
      "name": "python3",
      "display_name": "Python 3"
    },
    "language_info": {
      "name": "python"
    }
  },
  "cells": [
    {
      "cell_type": "code",
      "execution_count": 12,
      "metadata": {
        "id": "zuLKHqKqu6t3",
        "colab": {
          "base_uri": "https://localhost:8080/"
        },
        "outputId": "10007b99-cdd2-4f11-a603-abe5e481992a"
      },
      "outputs": [
        {
          "output_type": "stream",
          "name": "stdout",
          "text": [
            "請輸入聖誕樹層數:9\n",
            "         *         \n",
            "        ***        \n",
            "       *****       \n",
            "      *******      \n",
            "     *********     \n",
            "    ***********    \n",
            "   *************   \n",
            "  ***************  \n",
            " ***************** \n",
            "        ***        \n",
            "        ***        \n",
            "        ***        \n",
            "        ***        \n",
            "        ***        \n"
          ]
        }
      ],
      "source": [
        "def tree(star, upper_level, down_width, down_level):\n",
        "\n",
        "   for i in range(1,upper_level+1):\n",
        "      star_num=star*(2*i-1)\n",
        "      space=' '*(upper_level+1-i)\n",
        "      print(f'{space}{star_num}{space}')\n",
        "\n",
        "   for i in range(1,down_level+1):\n",
        "      ans=down_width*star\n",
        "      space_num=int(((upper_level*2+1)-down_width)/2)\n",
        "      space=' '*space_num\n",
        "      print(f\"{space}{ans}{space}\")\n",
        "\n",
        "height=int(input('請輸入聖誕樹層數:'))\n",
        "tree('*',height,3,5)"
      ]
    },
    {
      "cell_type": "code",
      "source": [
        "height=input('please input your height(cm):')\n",
        "weight=input('please input your weight(kg):')\n",
        "\n",
        "def BMI(height,weight):\n",
        "   BMI=weight/height**2\n",
        "   if BMI<18.5:\n",
        "      ans='過輕'\n",
        "   elif BMI<24 and BMI>=18.5:\n",
        "      ans='適中'\n",
        "   elif BMI<27 and BMI>=24:\n",
        "      ans='過重'\n",
        "   else:\n",
        "      ans='肥胖'\n",
        "   return BMI, ans\n",
        "\n",
        "try:\n",
        "   height=float(height)\n",
        "   weight=float(weight)\n",
        "   height/=100\n",
        "   BMI, ans=BMI(height,weight)\n",
        "   print(f'BMI:{BMI}')\n",
        "   print(f'體位:{ans}')\n",
        "except:\n",
        "   print('輸入內容錯誤')"
      ],
      "metadata": {
        "colab": {
          "base_uri": "https://localhost:8080/"
        },
        "id": "gB8NeuWQxOcc",
        "outputId": "9202e980-33e3-492e-b9c1-2641d5ef7311"
      },
      "execution_count": 13,
      "outputs": [
        {
          "output_type": "stream",
          "name": "stdout",
          "text": [
            "please input your height(cm):197\n",
            "please input your weight(kg):78\n",
            "BMI:20.098430776366307\n",
            "體位:適中\n"
          ]
        }
      ]
    }
  ]
}